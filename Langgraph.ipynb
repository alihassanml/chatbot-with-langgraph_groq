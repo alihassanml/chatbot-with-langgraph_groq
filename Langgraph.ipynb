{
 "cells": [
  {
   "cell_type": "code",
   "execution_count": 6,
   "id": "c4ec56d0-5bf1-4f7d-89b4-7b81e1bdd949",
   "metadata": {},
   "outputs": [],
   "source": [
    "from langchain_groq import ChatGroq\n",
    "from typing import Annotated\n",
    "from typing_extensions import TypedDict\n",
    "from langgraph.graph import START,END,StateGraph\n",
    "from langgraph.graph.message import add_messages"
   ]
  },
  {
   "cell_type": "code",
   "execution_count": 8,
   "id": "e4d91b4d-ffc3-46ab-90f2-0d5e138288ed",
   "metadata": {},
   "outputs": [],
   "source": [
    "import warnings\n",
    "warnings.filterwarnings('ignore')"
   ]
  },
  {
   "cell_type": "code",
   "execution_count": null,
   "id": "7664621d-1891-4f8f-be18-22b9afb3e2df",
   "metadata": {},
   "outputs": [],
   "source": []
  },
  {
   "cell_type": "code",
   "execution_count": 21,
   "id": "2ee1e46b-441b-4e5d-8287-f0b7b6e16db2",
   "metadata": {},
   "outputs": [],
   "source": [
    "groq_api = ''\n",
    "langsmith_api = ''"
   ]
  },
  {
   "cell_type": "code",
   "execution_count": 22,
   "id": "429260fd-ed35-4ec0-9bd0-2fcbda292b99",
   "metadata": {},
   "outputs": [
    {
     "data": {
      "text/plain": [
       "ChatGroq(client=<groq.resources.chat.completions.Completions object at 0x000001EE050ED610>, async_client=<groq.resources.chat.completions.AsyncCompletions object at 0x000001EE0604A750>, model_name='gemma2-9b-it', model_kwargs={}, groq_api_key=SecretStr('**********'))"
      ]
     },
     "execution_count": 22,
     "metadata": {},
     "output_type": "execute_result"
    }
   ],
   "source": [
    "llm = ChatGroq(groq_api_key = groq_api,model_name = 'gemma2-9b-it')\n",
    "llm"
   ]
  },
  {
   "cell_type": "code",
   "execution_count": 29,
   "id": "0eacf486-3a59-4195-9a2f-66e8ee7d505c",
   "metadata": {},
   "outputs": [],
   "source": [
    "class State(TypedDict):\n",
    "    messages: Annotated[list,add_messages]\n",
    "graph_builder = StateGraph(State)"
   ]
  },
  {
   "cell_type": "code",
   "execution_count": 30,
   "id": "9a0260b3-b637-4544-9dd7-34c647fcf448",
   "metadata": {},
   "outputs": [],
   "source": [
    "def chatbot(state:State):\n",
    "    return {\"messages\": [llm.invoke(state[\"messages\"])]}"
   ]
  },
  {
   "cell_type": "code",
   "execution_count": 31,
   "id": "9930c2d9-e327-4328-9ffd-422c717bf71c",
   "metadata": {},
   "outputs": [
    {
     "data": {
      "text/plain": [
       "<langgraph.graph.state.StateGraph at 0x1ee058b95d0>"
      ]
     },
     "execution_count": 31,
     "metadata": {},
     "output_type": "execute_result"
    }
   ],
   "source": [
    "graph_builder.add_node('chatbot',chatbot)"
   ]
  },
  {
   "cell_type": "code",
   "execution_count": 32,
   "id": "8dea0622-320d-4d56-92d6-e97ca28cf5f6",
   "metadata": {},
   "outputs": [
    {
     "data": {
      "text/plain": [
       "<langgraph.graph.state.StateGraph at 0x1ee058b95d0>"
      ]
     },
     "execution_count": 32,
     "metadata": {},
     "output_type": "execute_result"
    }
   ],
   "source": [
    "graph_builder.add_edge(START,\"chatbot\")\n",
    "graph_builder.add_edge(\"chatbot\",END)"
   ]
  },
  {
   "cell_type": "code",
   "execution_count": 33,
   "id": "a5444522-b4fc-4e43-970a-32f0759704d0",
   "metadata": {},
   "outputs": [],
   "source": [
    "graph = graph_builder.compile()"
   ]
  },
  {
   "cell_type": "code",
   "execution_count": 34,
   "id": "22d3cee2-b690-4133-8670-906b98743c6a",
   "metadata": {},
   "outputs": [
    {
     "data": {
      "image/png": "[encoded data removed]",
      "text/plain": [
       "<IPython.core.display.Image object>"
      ]
     },
     "metadata": {},
     "output_type": "display_data"
    }
   ],
   "source": [
    "from IPython.display import display,Image\n",
    "display(Image(graph.get_graph().draw_mermaid_png()))"
   ]
  },
  {
   "cell_type": "code",
   "execution_count": 35,
   "id": "761b6d88-6bac-4280-a98d-e916856a2a51",
   "metadata": {},
   "outputs": [],
   "source": [
    "def stream_graph_updates(user_input: str):\n",
    "    for event in graph.stream({\"messages\": [(\"user\", user_input)]}):\n",
    "        for value in event.values():\n",
    "            print(\"Assistant:\", value[\"messages\"][-1].content)\n",
    "            "
   ]
  },
  {
   "cell_type": "code",
   "execution_count": 37,
   "id": "1c023d18-0c51-412d-820f-98b2c18d8d13",
   "metadata": {},
   "outputs": [
    {
     "name": "stdin",
     "output_type": "stream",
     "text": [
      "User:  hello\n"
     ]
    },
    {
     "name": "stdout",
     "output_type": "stream",
     "text": [
      "Assistant: Hello! 👋 How can I help you today?\n",
      "\n"
     ]
    },
    {
     "name": "stdin",
     "output_type": "stream",
     "text": [
      "User:  what is machine learning\n"
     ]
    },
    {
     "name": "stdout",
     "output_type": "stream",
     "text": [
      "Assistant: Machine learning is a type of artificial intelligence (AI) that allows computers to learn from data without being explicitly programmed. \n",
      "\n",
      "Imagine teaching a child to identify a cat. You wouldn't write down a list of all the features that make a cat a cat (furry, four legs, pointy ears, etc.). Instead, you'd show them many pictures of cats and say \"This is a cat.\" Over time, the child would learn to recognize the patterns and features that define a cat.\n",
      "\n",
      "Machine learning works in a similar way. It uses algorithms to analyze large datasets and identify patterns. These patterns can then be used to make predictions or decisions.\n",
      "\n",
      "**Here's a breakdown:**\n",
      "\n",
      "* **Data:** Machine learning algorithms rely on data to learn. The more data they have, the better they become at identifying patterns.\n",
      "* **Algorithms:** These are sets of rules that the computer uses to analyze the data. There are many different types of machine learning algorithms, each suited to different tasks.\n",
      "* **Training:** This is the process of feeding the algorithm data and allowing it to learn from it.\n",
      "\n",
      "**Types of Machine Learning:**\n",
      "\n",
      "* **Supervised learning:** The algorithm is trained on labeled data, meaning each data point has a corresponding output. This allows the algorithm to learn a mapping between inputs and outputs.\n",
      "* **Unsupervised learning:** The algorithm is trained on unlabeled data and must find patterns and relationships on its own.\n",
      "* **Reinforcement learning:** The algorithm learns by interacting with its environment and receiving rewards or penalties for its actions.\n",
      "\n",
      "**Examples of Machine Learning in Action:**\n",
      "\n",
      "* **Spam filtering:** Machine learning algorithms can learn to identify spam emails based on patterns in the text.\n",
      "* **Recommendation systems:** Netflix and Amazon use machine learning to recommend movies and products based on your past viewing or purchase history.\n",
      "* **Image recognition:** Self-driving cars use machine learning to recognize objects in their surroundings.\n",
      "* **Fraud detection:** Banks use machine learning to identify fraudulent transactions.\n",
      "\n",
      "\n",
      "Machine learning is a rapidly evolving field with the potential to revolutionize many industries.\n",
      "\n"
     ]
    },
    {
     "name": "stdin",
     "output_type": "stream",
     "text": [
      "User:  q\n"
     ]
    },
    {
     "name": "stdout",
     "output_type": "stream",
     "text": [
      "Goodbye!\n"
     ]
    }
   ],
   "source": [
    "while True:\n",
    "    user_input = input(\"User: \")\n",
    "    if user_input.lower() in [\"quit\", \"exit\", \"q\"]:\n",
    "        print(\"Goodbye!\")\n",
    "        break\n",
    "    stream_graph_updates(user_input)"
   ]
  },
  {
   "cell_type": "code",
   "execution_count": null,
   "id": "a73863b8-c1f3-4bbb-8e8d-d5df6381e3ec",
   "metadata": {},
   "outputs": [],
   "source": []
  }
 ],
 "metadata": {
  "kernelspec": {
   "display_name": "Python 3 (ipykernel)",
   "language": "python",
   "name": "python3"
  },
  "language_info": {
   "codemirror_mode": {
    "name": "ipython",
    "version": 3
   },
   "file_extension": ".py",
   "mimetype": "text/x-python",
   "name": "python",
   "nbconvert_exporter": "python",
   "pygments_lexer": "ipython3",
   "version": "3.11.0"
  }
 },
 "nbformat": 4,
 "nbformat_minor": 5
}
